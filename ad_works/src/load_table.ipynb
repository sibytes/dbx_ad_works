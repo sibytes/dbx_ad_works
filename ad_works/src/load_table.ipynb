{
 "cells": [
  {
   "cell_type": "markdown",
   "metadata": {
    "application/vnd.databricks.v1+cell": {
     "cellMetadata": {
      "byteLimit": 2048000,
      "rowLimit": 10000
     },
     "inputWidgets": {},
     "nuid": "ee353e42-ff58-4955-9608-12865bd0950e",
     "showTitle": false,
     "title": ""
    }
   },
   "source": [
    "# Main Entry Point for a Table Load Task\n",
    "\n",
    "This default notebook is executed using Databricks Workflows as defined in resources/fnz_pb_job.yml."
   ]
  },
  {
   "cell_type": "code",
   "execution_count": null,
   "metadata": {
    "application/vnd.databricks.v1+cell": {
     "cellMetadata": {
      "byteLimit": 2048000,
      "rowLimit": 10000
     },
     "inputWidgets": {},
     "nuid": "a3fd1be8-d6fb-4785-9585-59f0bd0038bd",
     "showTitle": false,
     "title": ""
    }
   },
   "outputs": [],
   "source": [
    "dbutils.widgets.text(\"process_id\", \"-1\", \"process_id\")\n",
    "dbutils.widgets.text(\"table\", \"default\", \"table\")\n",
    "dbutils.widgets.text(\"load_type\", \"default\", \"load_type\")\n",
    "\n",
    "# stage load parameters\n",
    "dbutils.widgets.text(\"force\", \"false\", \"force\")\n",
    "dbutils.widgets.text(\"stage_merge_schema\", \"true\", \"stage_merge_schema\")\n",
    "dbutils.widgets.text(\"modified_after\", \"\", \"modified_after\")\n",
    "dbutils.widgets.text(\"modified_before\", \"\", \"modified_before\")\n",
    "\n",
    "# base load parameters\n",
    "dbutils.widgets.text(\"hold_file_if_schema_failed\", \"true\", \"hold_file_if_schema_failed\")\n",
    "dbutils.widgets.text(\"base_merge_schema\", \"true\", \"stage_merge_schema\")"
   ]
  },
  {
   "cell_type": "code",
   "execution_count": null,
   "metadata": {
    "application/vnd.databricks.v1+cell": {
     "cellMetadata": {
      "byteLimit": 2048000,
      "rowLimit": 10000
     },
     "inputWidgets": {},
     "nuid": "3ff6b8b2-42d8-40f9-9cc7-ecb48a44cf04",
     "showTitle": false,
     "title": ""
    }
   },
   "outputs": [
    {
     "name": "stdout",
     "output_type": "stream",
     "text": [
      "DEBUG : 2023-12-05 18:30:41,666 : fnz_pb.utils : utils.py.get_environment: line(26) : Detected the workspace adb-1593923126743168 for environment configuration\n",
      "INFO : 2023-12-05 18:30:41,668 : fnz_pb.utils : utils.py.get_environment: line(39) : Detected the dev environment\n",
      "INFO : 2023-12-05 18:30:41,668 : fnz_pb.utils : utils.py.load_sql: line(9) : loading sql /Workspace/Repos/pau_ryasha@quilter.com/QDP-FNZ-PB/fnz_pb/src/./../sql/fnz_pb.balance.sql\n"
     ]
    }
   ],
   "source": [
    "from etl import get_table, Table\n",
    "import logging\n",
    "from datetime import datetime\n",
    "\n",
    "process_id:int = int(dbutils.widgets.get(\"process_id\"))\n",
    "table:str = dbutils.widgets.get(\"table\")\n",
    "load_type:str = dbutils.widgets.get(\"load_type\")\n",
    "force:bool = (dbutils.widgets.get(\"force\") == \"true\")\n",
    "stage_merge_schema:bool = (dbutils.widgets.get(\"stage_merge_schema\") == \"true\")\n",
    "# if true the entire file will be held at stage if it has schema errors.\n",
    "hold_file_if_schema_failed:bool = (dbutils.widgets.get(\"hold_file_if_schema_failed\") == \"true\")\n",
    "base_merge_schema:bool = (dbutils.widgets.get(\"base_merge_schema\") == \"true\")\n",
    "\n",
    "modified_after = dbutils.widgets.get(\"modified_after\")\n",
    "modified_after = datetime.strptime(modified_after, \"%Y-%m-%d %H:%M:%S\") if modified_after else None\n",
    "\n",
    "modified_before = dbutils.widgets.get(\"modified_before\")\n",
    "modified_before = datetime.strptime(modified_before, \"%Y-%m-%d %H:%M:%S\") if modified_before else None\n",
    "\n",
    "table:Table = get_table(spark = spark, table = table, load_type = load_type)\n",
    "logger = logging.getLogger(f\"load_table(table = {table.name}, load_type = {load_type})\")"
   ]
  },
  {
   "cell_type": "code",
   "execution_count": null,
   "metadata": {
    "application/vnd.databricks.v1+cell": {
     "cellMetadata": {
      "byteLimit": 2048000,
      "rowLimit": 10000
     },
     "inputWidgets": {},
     "nuid": "5002250c-8795-444c-8579-30b040d454d4",
     "showTitle": false,
     "title": ""
    }
   },
   "outputs": [
    {
     "name": "stdout",
     "output_type": "stream",
     "text": [
      "INFO : 2023-12-05 18:30:41,991 : load_table(table = balance, load_type = batch) : command-1412197260571917-2469796052.<module>: line(3) : default catalog set to dev_hub\n"
     ]
    }
   ],
   "source": [
    "\n",
    "catalog = f\"{table.environment}_hub\"\n",
    "spark.sql(f\"USE CATALOG {catalog}\")\n",
    "logger.info(f\"default catalog set to {catalog}\")"
   ]
  },
  {
   "cell_type": "code",
   "execution_count": null,
   "metadata": {
    "application/vnd.databricks.v1+cell": {
     "cellMetadata": {
      "byteLimit": 2048000,
      "rowLimit": 10000
     },
     "inputWidgets": {},
     "nuid": "e73a1214-972a-4064-a067-b59b53c7d28b",
     "showTitle": false,
     "title": ""
    }
   },
   "outputs": [
    {
     "name": "stdout",
     "output_type": "stream",
     "text": [
      "INFO : 2023-12-05 18:30:42,079 : TableBalance : _table_balance.py.stage_into: line(28) : not applicable, skipping\n"
     ]
    }
   ],
   "source": [
    "table.stage_into(\n",
    "    process_id = process_id, \n",
    "    merge_schema = stage_merge_schema, \n",
    "    force = force,\n",
    "    modified_after = modified_after,\n",
    "    modified_before = modified_before\n",
    ")"
   ]
  },
  {
   "cell_type": "code",
   "execution_count": null,
   "metadata": {
    "application/vnd.databricks.v1+cell": {
     "cellMetadata": {
      "byteLimit": 2048000,
      "rowLimit": 10000
     },
     "inputWidgets": {},
     "nuid": "f40fcfe9-3d69-4cab-98c0-6d8f82d4fea1",
     "showTitle": false,
     "title": ""
    }
   },
   "outputs": [
    {
     "name": "stdout",
     "output_type": "stream",
     "text": [
      "INFO : 2023-12-05 18:30:42,179 : TableBalance : _table_balance.py.load_header_footer: line(34) : not applicable, skipping\n"
     ]
    }
   ],
   "source": [
    "df = table.load_audit(process_id = process_id)\n",
    "if df:\n",
    "  display(df)"
   ]
  },
  {
   "cell_type": "code",
   "execution_count": null,
   "metadata": {
    "application/vnd.databricks.v1+cell": {
     "cellMetadata": {
      "byteLimit": 2048000,
      "rowLimit": 10000
     },
     "inputWidgets": {},
     "nuid": "4232d1ce-3bb8-434a-b311-54ea8dbbcdf6",
     "showTitle": false,
     "title": ""
    }
   },
   "outputs": [
    {
     "name": "stdout",
     "output_type": "stream",
     "text": [
      "INFO : 2023-12-05 18:30:42,279 : TableBalance : _table_balance.py.extract: line(43) : extracting balance\n"
     ]
    }
   ],
   "source": [
    "df = table.extract(\n",
    "  process_id=process_id, \n",
    "  hold_file_if_schema_failed=hold_file_if_schema_failed\n",
    ")"
   ]
  },
  {
   "cell_type": "code",
   "execution_count": null,
   "metadata": {
    "application/vnd.databricks.v1+cell": {
     "cellMetadata": {
      "byteLimit": 2048000,
      "rowLimit": 10000
     },
     "inputWidgets": {},
     "nuid": "04d018e9-3d5d-442f-afea-e17fdd35c392",
     "showTitle": false,
     "title": ""
    }
   },
   "outputs": [
    {
     "name": "stdout",
     "output_type": "stream",
     "text": [
      "INFO : 2023-12-05 18:30:42,583 : TableBalance : _table_balance.py.transform: line(91) : transforming balance\n"
     ]
    }
   ],
   "source": [
    "df = table.transform(df=df)"
   ]
  },
  {
   "cell_type": "code",
   "execution_count": null,
   "metadata": {
    "application/vnd.databricks.v1+cell": {
     "cellMetadata": {
      "byteLimit": 2048000,
      "rowLimit": 10000
     },
     "inputWidgets": {},
     "nuid": "022a5bc9-7c88-4506-a451-7e1deec1223a",
     "showTitle": false,
     "title": ""
    }
   },
   "outputs": [
    {
     "name": "stdout",
     "output_type": "stream",
     "text": [
      "INFO : 2023-12-05 18:30:42,681 : TableBalance : _table_balance.py.load: line(99) : loading balance\n",
      "DEBUG : 2023-12-05 18:30:42,682 : TableBalance : _table_balance.py.load: line(101) : create table if not exists `fnz_pb`.`balance`\n",
      "(\n",
      "  fnz_hdr_extract_date TIMESTAMP,\n",
      "  load_flag STRING,\n",
      "  effective_date INT,\n",
      "  sub_account_id STRING,\n",
      "  instrument_code STRING,\n",
      "  location STRING,\n",
      "  custodian_account_id STRING,\n",
      "  quantity DECIMAL(19,8),\n",
      "  system_currency_value DECIMAL(19,8),\n",
      "  head_account_currency_value DECIMAL(19,8),\n",
      "  price_currency_value DECIMAL(19,8),\n",
      "  sub_account_currency_value DECIMAL(19,8),\n",
      "  valuation_book_cost DECIMAL(19,8),\n",
      "  price_currency_clean_value DECIMAL(19,8),\n",
      "  price_currency_accrued_interest DECIMAL(19,8),\n",
      "  system_currency_iso_code STRING,\n",
      "  head_account_currency_iso_code STRING,\n",
      "  price_currency_iso_code STRING,\n",
      "  sub_account_currency_iso_code STRING,\n",
      "  source_system_id INT,\n",
      "  _file_name STRING,\n",
      "  _snapshot_date TIMESTAMP,\n",
      "  _load_date TIMESTAMP,\n",
      "  _process_id BIGINT,\n",
      "  _is_migration BOOLEAN)\n",
      "USING delta\n",
      "CLUSTER BY (effective_date)\n",
      "TBLPROPERTIES (\n",
      "  'delta.enableChangeDataFeed' = 'true'\n",
      ")\n"
     ]
    },
    {
     "data": {
      "text/html": [
       "<style scoped>\n",
       "  .table-result-container {\n",
       "    max-height: 300px;\n",
       "    overflow: auto;\n",
       "  }\n",
       "  table, th, td {\n",
       "    border: 1px solid black;\n",
       "    border-collapse: collapse;\n",
       "  }\n",
       "  th, td {\n",
       "    padding: 5px;\n",
       "  }\n",
       "  th {\n",
       "    text-align: left;\n",
       "  }\n",
       "</style><div class='table-result-container'><table class='table-result'><thead style='background-color: white'><tr><th>num_affected_rows</th><th>num_updated_rows</th><th>num_deleted_rows</th><th>num_inserted_rows</th></tr></thead><tbody><tr><td>22108800</td><td>0</td><td>0</td><td>22108800</td></tr></tbody></table></div>"
      ]
     },
     "metadata": {
      "application/vnd.databricks.v1+output": {
       "addedWidgets": {},
       "aggData": [],
       "aggError": "",
       "aggOverflow": false,
       "aggSchema": [],
       "aggSeriesLimitReached": false,
       "aggType": "",
       "arguments": {},
       "columnCustomDisplayInfos": {},
       "data": [
        [
         22108800,
         0,
         0,
         22108800
        ]
       ],
       "datasetInfos": [],
       "dbfsResultPath": null,
       "isJsonSchema": true,
       "metadata": {},
       "overflow": false,
       "plotOptions": {
        "customPlotOptions": {},
        "displayType": "table",
        "pivotAggregation": null,
        "pivotColumns": null,
        "xColumns": null,
        "yColumns": null
       },
       "removedWidgets": [],
       "schema": [
        {
         "metadata": "{}",
         "name": "num_affected_rows",
         "type": "\"long\""
        },
        {
         "metadata": "{}",
         "name": "num_updated_rows",
         "type": "\"long\""
        },
        {
         "metadata": "{}",
         "name": "num_deleted_rows",
         "type": "\"long\""
        },
        {
         "metadata": "{}",
         "name": "num_inserted_rows",
         "type": "\"long\""
        }
       ],
       "type": "table"
      }
     },
     "output_type": "display_data"
    }
   ],
   "source": [
    "df = table.load(df=df)\n",
    "display(df)"
   ]
  },
  {
   "cell_type": "code",
   "execution_count": null,
   "metadata": {
    "application/vnd.databricks.v1+cell": {
     "cellMetadata": {
      "byteLimit": 2048000,
      "rowLimit": 10000
     },
     "inputWidgets": {},
     "nuid": "fe5c8842-739d-4647-9c62-9bf743bda4f8",
     "showTitle": false,
     "title": ""
    }
   },
   "outputs": [],
   "source": [
    "dbutils.notebook.exit(f\"load_table {catalog}.ad_works.{table.name} succeeded with process_id = {process_id}\")"
   ]
  }
 ],
 "metadata": {
  "application/vnd.databricks.v1+notebook": {
   "dashboards": [],
   "language": "python",
   "notebookMetadata": {
    "mostRecentlyExecutedCommandWithImplicitDF": {
     "commandId": 1379819029181717,
     "dataframes": [
      "_sqldf"
     ]
    },
    "pythonIndentUnit": 2
   },
   "notebookName": "load_table",
   "widgets": {
    "force": {
     "currentValue": "false",
     "nuid": "86c8d8f3-1fc8-4976-8ac7-869cf19c8d50",
     "widgetInfo": {
      "defaultValue": "false",
      "label": "force",
      "name": "force",
      "options": {
       "validationRegex": null,
       "widgetType": "text"
      },
      "widgetType": "text"
     }
    },
    "hold_file_if_schema_failed": {
     "currentValue": "true",
     "nuid": "cd4a537f-656a-44c5-a466-d5719c0ca46e",
     "widgetInfo": {
      "defaultValue": "",
      "label": "true",
      "name": "hold_file_if_schema_failed",
      "options": {
       "validationRegex": null,
       "widgetType": "text"
      },
      "widgetType": "text"
     }
    },
    "load_type": {
     "currentValue": "batch",
     "nuid": "cc61f7a7-a47c-45e6-b484-67037f2d7320",
     "widgetInfo": {
      "defaultValue": "batch",
      "label": "load_type",
      "name": "load_type",
      "options": {
       "validationRegex": null,
       "widgetType": "text"
      },
      "widgetType": "text"
     }
    },
    "modified_after": {
     "currentValue": "",
     "nuid": "c75ce168-0700-486a-9ede-825243ec56dc",
     "widgetInfo": {
      "defaultValue": "",
      "label": "modified_after",
      "name": "modified_after",
      "options": {
       "validationRegex": null,
       "widgetType": "text"
      },
      "widgetType": "text"
     }
    },
    "modified_before": {
     "currentValue": "",
     "nuid": "da2447d8-6387-4e80-a7c6-72e91cc975ed",
     "widgetInfo": {
      "defaultValue": "",
      "label": "modified_before",
      "name": "modified_before",
      "options": {
       "validationRegex": null,
       "widgetType": "text"
      },
      "widgetType": "text"
     }
    },
    "process_id": {
     "currentValue": "608130025441093",
     "nuid": "0906b8f4-6c8d-478f-b135-09c988f795cc",
     "widgetInfo": {
      "defaultValue": "-1",
      "label": "process_id",
      "name": "process_id",
      "options": {
       "validationRegex": null,
       "widgetType": "text"
      },
      "widgetType": "text"
     }
    },
    "stage_merge_schema": {
     "currentValue": "true",
     "nuid": "769c4ef8-0ebf-4781-99b9-e576999295fb",
     "widgetInfo": {
      "defaultValue": "true",
      "label": "stage_merge_schema",
      "name": "stage_merge_schema",
      "options": {
       "validationRegex": null,
       "widgetType": "text"
      },
      "widgetType": "text"
     }
    },
    "table": {
     "currentValue": "balance",
     "nuid": "7abad684-bf23-4e44-9425-c9026054c7d8",
     "widgetInfo": {
      "defaultValue": "default",
      "label": "table",
      "name": "table",
      "options": {
       "validationRegex": null,
       "widgetType": "text"
      },
      "widgetType": "text"
     }
    }
   }
  },
  "kernelspec": {
   "display_name": "Python 3",
   "language": "python",
   "name": "python3"
  },
  "language_info": {
   "name": "python",
   "version": "3.11.4"
  }
 },
 "nbformat": 4,
 "nbformat_minor": 0
}
