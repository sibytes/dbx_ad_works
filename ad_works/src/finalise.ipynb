{
 "cells": [
  {
   "cell_type": "code",
   "execution_count": null,
   "metadata": {
    "application/vnd.databricks.v1+cell": {
     "cellMetadata": {
      "byteLimit": 2048000,
      "rowLimit": 10000
     },
     "inputWidgets": {},
     "nuid": "5770a604-0d51-4994-a13d-fbefd7e0c872",
     "showTitle": false,
     "title": ""
    }
   },
   "outputs": [],
   "source": [
    "dbutils.widgets.text(\"process_id\", \"-1\", \"process_id\")"
   ]
  },
  {
   "cell_type": "code",
   "execution_count": null,
   "metadata": {
    "application/vnd.databricks.v1+cell": {
     "cellMetadata": {
      "byteLimit": 2048000,
      "rowLimit": 10000
     },
     "inputWidgets": {},
     "nuid": "523c2c65-c65d-482f-aad6-7133dcad4ee6",
     "showTitle": false,
     "title": ""
    }
   },
   "outputs": [
    {
     "data": {
      "text/plain": [
       "71686511752993"
      ]
     },
     "execution_count": 2,
     "metadata": {},
     "output_type": "execute_result"
    }
   ],
   "source": [
    "process_id = int(dbutils.widgets.get(\"process_id\"))\n",
    "process_id"
   ]
  },
  {
   "cell_type": "code",
   "execution_count": null,
   "metadata": {
    "application/vnd.databricks.v1+cell": {
     "cellMetadata": {
      "byteLimit": 2048000,
      "rowLimit": 10000
     },
     "inputWidgets": {},
     "nuid": "bc15712c-60a3-43c1-9745-6d238f206edc",
     "showTitle": false,
     "title": ""
    }
   },
   "outputs": [],
   "source": [
    "from etl.utils import get_environment\n",
    "import logging"
   ]
  },
  {
   "cell_type": "code",
   "execution_count": null,
   "metadata": {
    "application/vnd.databricks.v1+cell": {
     "cellMetadata": {
      "byteLimit": 2048000,
      "rowLimit": 10000
     },
     "inputWidgets": {},
     "nuid": "019e9059-18b3-4d5e-8017-3bdaffff090c",
     "showTitle": false,
     "title": ""
    }
   },
   "outputs": [
    {
     "name": "stdout",
     "output_type": "stream",
     "text": [
      "INFO : 2023-12-04 19:20:27,719 : fnz_pb.utils : utils.py.get_environment: line(39) : Detected the dev environment\n",
      "INFO : 2023-12-04 19:20:27,821 : initialise fnz_pb : command-1412197260571928-3108903530.<module>: line(5) : default catalog set to dev_hub\n"
     ]
    }
   ],
   "source": [
    "logger = logging.getLogger(f\"initialise ad_works\")\n",
    "env = get_environment(spark = spark)\n",
    "catalog = f\"{env}_hub\"\n",
    "spark.sql(f\"USE CATALOG {catalog}\")\n",
    "logger.info(f\"default catalog set to {catalog}\")"
   ]
  },
  {
   "cell_type": "code",
   "execution_count": null,
   "metadata": {
    "application/vnd.databricks.v1+cell": {
     "cellMetadata": {
      "byteLimit": 2048000,
      "implicitDf": true,
      "rowLimit": 10000
     },
     "inputWidgets": {},
     "nuid": "8d1095fd-e3c1-472a-8bb1-705e795670e0",
     "showTitle": false,
     "title": ""
    }
   },
   "outputs": [
    {
     "data": {
      "text/html": [
       "<style scoped>\n",
       "  .table-result-container {\n",
       "    max-height: 300px;\n",
       "    overflow: auto;\n",
       "  }\n",
       "  table, th, td {\n",
       "    border: 1px solid black;\n",
       "    border-collapse: collapse;\n",
       "  }\n",
       "  th, td {\n",
       "    padding: 5px;\n",
       "  }\n",
       "  th {\n",
       "    text-align: left;\n",
       "  }\n",
       "</style><div class='table-result-container'><table class='table-result'><thead style='background-color: white'><tr><th>header_entity</th><th>header_api_version</th><th>fnz_header_extract_date</th><th>file_name</th><th>file_size</th><th>schema_valid</th><th>footer_reconciliation_value</th><th>footer_row_count</th><th>actual_row_count</th><th>invalid_row_count</th><th>process_id</th><th>load_date</th></tr></thead><tbody></tbody></table></div>"
      ]
     },
     "metadata": {
      "application/vnd.databricks.v1+output": {
       "addedWidgets": {},
       "aggData": [],
       "aggError": "",
       "aggOverflow": false,
       "aggSchema": [],
       "aggSeriesLimitReached": false,
       "aggType": "",
       "arguments": {},
       "columnCustomDisplayInfos": {},
       "data": [],
       "datasetInfos": [],
       "dbfsResultPath": null,
       "isJsonSchema": true,
       "metadata": {},
       "overflow": false,
       "plotOptions": {
        "customPlotOptions": {},
        "displayType": "table",
        "pivotAggregation": null,
        "pivotColumns": null,
        "xColumns": null,
        "yColumns": null
       },
       "removedWidgets": [],
       "schema": [
        {
         "metadata": "{}",
         "name": "header_entity",
         "type": "\"string\""
        },
        {
         "metadata": "{}",
         "name": "header_api_version",
         "type": "\"string\""
        },
        {
         "metadata": "{}",
         "name": "fnz_header_extract_date",
         "type": "\"timestamp\""
        },
        {
         "metadata": "{}",
         "name": "file_name",
         "type": "\"string\""
        },
        {
         "metadata": "{}",
         "name": "file_size",
         "type": "\"long\""
        },
        {
         "metadata": "{}",
         "name": "schema_valid",
         "type": "\"boolean\""
        },
        {
         "metadata": "{}",
         "name": "footer_reconciliation_value",
         "type": "\"double\""
        },
        {
         "metadata": "{}",
         "name": "footer_row_count",
         "type": "\"long\""
        },
        {
         "metadata": "{}",
         "name": "actual_row_count",
         "type": "\"long\""
        },
        {
         "metadata": "{}",
         "name": "invalid_row_count",
         "type": "\"long\""
        },
        {
         "metadata": "{}",
         "name": "process_id",
         "type": "\"long\""
        },
        {
         "metadata": "{}",
         "name": "load_date",
         "type": "\"timestamp\""
        }
       ],
       "type": "table"
      }
     },
     "output_type": "display_data"
    }
   ],
   "source": [
    "\n",
    "df = spark.sql(f\"\"\"\n",
    "select\n",
    "  snapshot_date,\n",
    "  `table`,\n",
    "  file_name,\n",
    "  file_size,\n",
    "  schema_valid,\n",
    "  total_count,\n",
    "  valid_count,\n",
    "  invalid_count,\n",
    "  invalid_ratio,     \n",
    "  process_id,\n",
    "  load_date\n",
    "from {catalog}._ad_works._audit\n",
    "where process_id = {process_id}\n",
    "order by snapshot_date, `table`\n",
    "\"\"\", process_id = process_id, catalog = catalog)\n",
    "\n",
    "display(df)"
   ]
  },
  {
   "cell_type": "code",
   "execution_count": null,
   "metadata": {
    "application/vnd.databricks.v1+cell": {
     "cellMetadata": {
      "byteLimit": 2048000,
      "rowLimit": 10000
     },
     "inputWidgets": {},
     "nuid": "177c4574-1186-4959-be49-5adc0461c05f",
     "showTitle": false,
     "title": ""
    }
   },
   "outputs": [
    {
     "data": {
      "text/html": [
       "<style scoped>\n",
       "  .table-result-container {\n",
       "    max-height: 300px;\n",
       "    overflow: auto;\n",
       "  }\n",
       "  table, th, td {\n",
       "    border: 1px solid black;\n",
       "    border-collapse: collapse;\n",
       "  }\n",
       "  th, td {\n",
       "    padding: 5px;\n",
       "  }\n",
       "  th {\n",
       "    text-align: left;\n",
       "  }\n",
       "</style><div class='table-result-container'><table class='table-result'><thead style='background-color: white'><tr><th>header_entity</th><th>header_api_version</th><th>fnz_header_extract_date</th><th>file_name</th><th>file_size</th><th>schema_valid</th><th>footer_reconciliation_value</th><th>footer_row_count</th><th>actual_row_count</th><th>invalid_row_count</th><th>process_id</th><th>load_date</th></tr></thead><tbody></tbody></table></div>"
      ]
     },
     "metadata": {
      "application/vnd.databricks.v1+output": {
       "addedWidgets": {},
       "aggData": [],
       "aggError": "",
       "aggOverflow": false,
       "aggSchema": [],
       "aggSeriesLimitReached": false,
       "aggType": "",
       "arguments": {},
       "columnCustomDisplayInfos": {},
       "data": [],
       "datasetInfos": [],
       "dbfsResultPath": null,
       "isJsonSchema": true,
       "metadata": {},
       "overflow": false,
       "plotOptions": {
        "customPlotOptions": {},
        "displayType": "table",
        "pivotAggregation": null,
        "pivotColumns": null,
        "xColumns": null,
        "yColumns": null
       },
       "removedWidgets": [],
       "schema": [
        {
         "metadata": "{}",
         "name": "header_entity",
         "type": "\"string\""
        },
        {
         "metadata": "{}",
         "name": "header_api_version",
         "type": "\"string\""
        },
        {
         "metadata": "{}",
         "name": "fnz_header_extract_date",
         "type": "\"timestamp\""
        },
        {
         "metadata": "{}",
         "name": "file_name",
         "type": "\"string\""
        },
        {
         "metadata": "{}",
         "name": "file_size",
         "type": "\"long\""
        },
        {
         "metadata": "{}",
         "name": "schema_valid",
         "type": "\"boolean\""
        },
        {
         "metadata": "{}",
         "name": "footer_reconciliation_value",
         "type": "\"double\""
        },
        {
         "metadata": "{}",
         "name": "footer_row_count",
         "type": "\"long\""
        },
        {
         "metadata": "{}",
         "name": "actual_row_count",
         "type": "\"long\""
        },
        {
         "metadata": "{}",
         "name": "invalid_row_count",
         "type": "\"long\""
        },
        {
         "metadata": "{}",
         "name": "process_id",
         "type": "\"long\""
        },
        {
         "metadata": "{}",
         "name": "load_date",
         "type": "\"timestamp\""
        }
       ],
       "type": "table"
      }
     },
     "output_type": "display_data"
    }
   ],
   "source": [
    "df_failed = df.where(\"!schema_valid\")\n",
    "display(df_failed)"
   ]
  },
  {
   "cell_type": "code",
   "execution_count": null,
   "metadata": {
    "application/vnd.databricks.v1+cell": {
     "cellMetadata": {
      "byteLimit": 2048000,
      "rowLimit": 10000
     },
     "inputWidgets": {},
     "nuid": "fe13eff5-78cb-49b9-b966-3628bd7f5434",
     "showTitle": false,
     "title": ""
    }
   },
   "outputs": [],
   "source": [
    "failed_count = df_failed.count()\n",
    "succeeded_count = df.count()\n",
    "\n",
    "if failed_count > 0:\n",
    "  msg = f\"ingest_ad_works job to load {catalog}.ad_works load has {failed_count} file(s) with schema failures. See the finalisation step for details.\"\n",
    "  logger.error(msg)\n",
    "  raise Exception(msg)\n",
    "else:\n",
    "  msg = f\"ingest_ad_works job to load {catalog}.ad_works load has successfully loaded {succeeded_count} files.\"\n",
    "  dbutils.notebook.exit(msg)"
   ]
  }
 ],
 "metadata": {
  "application/vnd.databricks.v1+notebook": {
   "dashboards": [],
   "language": "python",
   "notebookMetadata": {
    "mostRecentlyExecutedCommandWithImplicitDF": {
     "commandId": -1,
     "dataframes": [
      "_sqldf"
     ]
    },
    "pythonIndentUnit": 2
   },
   "notebookName": "finalise",
   "widgets": {
    "process_id": {
     "currentValue": "71686511752993",
     "nuid": "adba1006-d67d-4ba0-8164-00b12cdc3e4c",
     "widgetInfo": {
      "defaultValue": "-1",
      "label": "process_id",
      "name": "process_id",
      "options": {
       "validationRegex": null,
       "widgetType": "text"
      },
      "widgetType": "text"
     }
    }
   }
  },
  "language_info": {
   "name": "python"
  }
 },
 "nbformat": 4,
 "nbformat_minor": 0
}
