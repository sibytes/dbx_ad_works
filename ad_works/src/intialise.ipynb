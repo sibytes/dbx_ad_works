{
 "cells": [
  {
   "cell_type": "code",
   "execution_count": null,
   "metadata": {
    "application/vnd.databricks.v1+cell": {
     "cellMetadata": {
      "byteLimit": 2048000,
      "implicitDf": true,
      "rowLimit": 10000
     },
     "inputWidgets": {},
     "nuid": "877e7324-dd17-4a35-9286-e87b81434afa",
     "showTitle": false,
     "title": ""
    }
   },
   "outputs": [
    {
     "data": {
      "text/html": [
       "<style scoped>\n",
       "  .table-result-container {\n",
       "    max-height: 300px;\n",
       "    overflow: auto;\n",
       "  }\n",
       "  table, th, td {\n",
       "    border: 1px solid black;\n",
       "    border-collapse: collapse;\n",
       "  }\n",
       "  th, td {\n",
       "    padding: 5px;\n",
       "  }\n",
       "  th {\n",
       "    text-align: left;\n",
       "  }\n",
       "</style><div class='table-result-container'><table class='table-result'><thead style='background-color: white'><tr></tr></thead><tbody></tbody></table></div>"
      ]
     },
     "metadata": {
      "application/vnd.databricks.v1+output": {
       "addedWidgets": {},
       "aggData": [],
       "aggError": "",
       "aggOverflow": false,
       "aggSchema": [],
       "aggSeriesLimitReached": false,
       "aggType": "",
       "arguments": {},
       "columnCustomDisplayInfos": {},
       "data": [],
       "datasetInfos": [],
       "dbfsResultPath": null,
       "isJsonSchema": true,
       "metadata": {
        "dataframeName": null
       },
       "overflow": false,
       "plotOptions": {
        "customPlotOptions": {},
        "displayType": "table",
        "pivotAggregation": null,
        "pivotColumns": null,
        "xColumns": null,
        "yColumns": null
       },
       "removedWidgets": [],
       "schema": [],
       "type": "table"
      }
     },
     "output_type": "display_data"
    }
   ],
   "source": [
    "%sql\n",
    "# drop table if exists dev_hub.fnz_pb.reconciliation_price;\n",
    "# drop table if exists dev_hub.stage_fnz_pb.reconciliation_price;\n",
    "\n",
    "# drop table if exists dev_hub.fnz_pb.balance_insert;\n",
    "# drop table if exists dev_hub.stage_fnz_pb.balance_insert;\n",
    "\n",
    "# drop table if exists dev_hub.fnz_pb.balance_price_update;\n",
    "# drop table if exists dev_hub.stage_fnz_pb.balance_price_update;\n",
    "\n",
    "# drop table if exists dev_hub.fnz_pb.balance_update;\n",
    "# drop table if exists dev_hub.stage_fnz_pb.balance_update;\n",
    "\n",
    "# drop table if exists dev_hub.fnz_pb.price_insert;\n",
    "# drop table if exists dev_hub.stage_fnz_pb.price_insert;\n",
    "\n",
    "# drop table if exists dev_hub.fnz_pb.price_delete_update;\n",
    "# drop table if exists dev_hub.stage_fnz_pb.price_delete_update;\n",
    "\n",
    "# drop table if exists dev_hub.fnz_pb.balance;\n",
    "# drop table if exists dev_hub.fnz_pb.price;\n",
    "# drop table if exists dev_hub.fnz_pb.header_footer;"
   ]
  },
  {
   "cell_type": "code",
   "execution_count": null,
   "metadata": {
    "application/vnd.databricks.v1+cell": {
     "cellMetadata": {
      "byteLimit": 2048000,
      "rowLimit": 10000
     },
     "inputWidgets": {},
     "nuid": "fb8777f6-da98-44eb-ba54-b4800a9400ca",
     "showTitle": false,
     "title": ""
    }
   },
   "outputs": [],
   "source": [
    "from etl.utils import load_sql, get_environment\n",
    "import logging"
   ]
  },
  {
   "cell_type": "code",
   "execution_count": null,
   "metadata": {
    "application/vnd.databricks.v1+cell": {
     "cellMetadata": {
      "byteLimit": 2048000,
      "rowLimit": 10000
     },
     "inputWidgets": {},
     "nuid": "019e9059-18b3-4d5e-8017-3bdaffff090c",
     "showTitle": false,
     "title": ""
    }
   },
   "outputs": [
    {
     "name": "stdout",
     "output_type": "stream",
     "text": [
      "INFO : 2023-12-04 15:43:41,661 : fnz_pb.utils : utils.py.get_environment: line(39) : Detected the dev environment\n",
      "INFO : 2023-12-04 15:43:41,739 : initialise fnz_pb : command-1952246797811921-3108903530.<module>: line(5) : default catalog set to dev_hub\n"
     ]
    }
   ],
   "source": [
    "logger = logging.getLogger(f\"initialise ad_works\")\n",
    "env = get_environment(spark = spark)\n",
    "catalog = f\"{env}_hub\"\n",
    "spark.sql(f\"USE CATALOG {catalog}\")\n",
    "logger.info(f\"default catalog set to {catalog}\")"
   ]
  },
  {
   "cell_type": "code",
   "execution_count": null,
   "metadata": {
    "application/vnd.databricks.v1+cell": {
     "cellMetadata": {
      "byteLimit": 2048000,
      "rowLimit": 10000
     },
     "inputWidgets": {},
     "nuid": "13513658-44f9-4a8a-8983-a61a8db56e4e",
     "showTitle": false,
     "title": ""
    }
   },
   "outputs": [
    {
     "name": "stdout",
     "output_type": "stream",
     "text": [
      "INFO : 2023-12-04 15:43:54,170 : fnz_pb.utils : utils.py.load_sql: line(9) : loading sql /Workspace/Repos/pau_ryasha@quilter.com/QDP-FNZ-PB/fnz_pb/src/./../sql/fnz_pb.header_footer.sql\n",
      "INFO : 2023-12-04 15:43:54,299 : initialise fnz_pb : command-1952246797811922-3128722820.<module>: line(2) : creating table fnz_pb.header_footer\n"
     ]
    },
    {
     "data": {
      "text/plain": [
       "DataFrame[]"
      ]
     },
     "execution_count": 3,
     "metadata": {},
     "output_type": "execute_result"
    }
   ],
   "source": [
    "sql = load_sql(\"ad_works._audit\")\n",
    "logger.info(\"creating table ad_works._audit\")\n",
    "logger.debug(sql)\n",
    "spark.sql(sql)"
   ]
  }
 ],
 "metadata": {
  "application/vnd.databricks.v1+notebook": {
   "dashboards": [],
   "language": "python",
   "notebookMetadata": {
    "mostRecentlyExecutedCommandWithImplicitDF": {
     "commandId": 1952246797811919,
     "dataframes": [
      "_sqldf"
     ]
    },
    "pythonIndentUnit": 2
   },
   "notebookName": "intialise",
   "widgets": {}
  },
  "language_info": {
   "name": "python"
  }
 },
 "nbformat": 4,
 "nbformat_minor": 0
}
